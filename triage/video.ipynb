{
 "cells": [
  {
   "cell_type": "markdown",
   "id": "72643206-e0e9-40cf-83c3-bbb9288c344d",
   "metadata": {
    "tags": []
   },
   "source": [
    "### Video witness timings"
   ]
  },
  {
   "cell_type": "code",
   "execution_count": null,
   "id": "f66af698-1d53-4b95-8bde-b341bc55d3e2",
   "metadata": {},
   "outputs": [],
   "source": [
    "def Video_witness_timings(year, time_diff):\n",
    "    \n",
    "    query =  f\"\"\"SELECT \n",
    "                   DATEPART(year, t.CreatedOn) as yyyy\n",
    "                   , DATEPART(month,t.CreatedOn) as mm\n",
    "                   , min(DATEDIFF(MINUTE, t.CreatedOn, t.ModifiedOn)) MinProcessTime\n",
    "                   , max(DATEDIFF(MINUTE, t.CreatedOn, t.ModifiedOn)) MaxProcessTime\n",
    "                   , AVG(DATEDIFF(MINUTE, t.CreatedOn, t.ModifiedOn)) AvgProcessTime\n",
    "\n",
    "                   , COUNT(*) AS cnt\n",
    "            FROM\n",
    "                   stl_stltask t with (nolock)\n",
    "            WHERE\n",
    "                   1=1\n",
    "                   and t.Subject = 'Send person details to Video Witness'\n",
    "                   and DATEPART(year, t.CreatedOn) >={year}\n",
    "                   and DATEDIFF(MINUTE, t.CreatedOn, t.ModifiedOn) > 0\n",
    "                   and DATEDIFF(MINUTE, t.CreatedOn, t.ModifiedOn) < {time_diff}\n",
    "            GROUP BY\n",
    "                   DATEPART(year, t.CreatedOn)\n",
    "                   , DATEPART(month,t.CreatedOn) \n",
    "            order by\n",
    "                   DATEPART(year, t.CreatedOn) desc\n",
    "                   , DATEPART(month,t.CreatedOn) desc\n",
    "\n",
    "            \"\"\"\n",
    "\n",
    "    return query"
   ]
  }
 ],
 "metadata": {
  "kernelspec": {
   "display_name": "Python 3 (ipykernel)",
   "language": "python",
   "name": "python3"
  },
  "language_info": {
   "codemirror_mode": {
    "name": "ipython",
    "version": 3
   },
   "file_extension": ".py",
   "mimetype": "text/x-python",
   "name": "python",
   "nbconvert_exporter": "python",
   "pygments_lexer": "ipython3",
   "version": "3.11.1"
  }
 },
 "nbformat": 4,
 "nbformat_minor": 5
}

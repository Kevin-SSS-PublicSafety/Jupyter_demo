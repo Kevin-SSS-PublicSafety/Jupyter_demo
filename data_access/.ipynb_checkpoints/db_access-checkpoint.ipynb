{
 "cells": [
  {
   "cell_type": "code",
   "execution_count": 1,
   "id": "8347753f-505e-4fe6-a110-be4a41a19c9b",
   "metadata": {
    "tags": []
   },
   "outputs": [],
   "source": [
    "engine = None"
   ]
  },
  {
   "cell_type": "code",
   "execution_count": 1,
   "id": "fc1b990f-a5cf-467e-b99d-cb2a61efebe3",
   "metadata": {},
   "outputs": [],
   "source": [
    "def setup_connection(server):\n",
    "    import urllib\n",
    "    from sqlalchemy import create_engine, text\n",
    "\n",
    "    params =  'DRIVER={SQL Server};' \\\n",
    "              f'SERVER={server};' \\\n",
    "              'DATABASE=POLCASE_MSCRM;' \\\n",
    "              'Trusted_Connection=yes;'\n",
    "\n",
    "    #print(params)\n",
    "    \n",
    "    params = urllib.parse.quote_plus(params)\n",
    "    conn_str = 'mssql+pyodbc:///?odbc_connect={}'.format(params)\n",
    "\n",
    "    global engine\n",
    "    engine = create_engine(conn_str)\n",
    "    \n",
    "   # return engine"
   ]
  },
  {
   "cell_type": "code",
   "execution_count": 2,
   "id": "7fa3fb4d-7608-45da-9ec7-30976534f18f",
   "metadata": {},
   "outputs": [],
   "source": [
    "def get_single_value(sql_string):\n",
    "    from sqlalchemy import text\n",
    "    with engine.connect() as conn:\n",
    "        sql_query = text(sql_string)\n",
    "        #print(sql_query)\n",
    "        result = conn.execute(sql_query)\n",
    "        return result.first()[0]\n"
   ]
  },
  {
   "cell_type": "code",
   "execution_count": 3,
   "id": "77134324-b4de-4554-99a6-523739ff1add",
   "metadata": {},
   "outputs": [],
   "source": [
    "def display_data1(sql_string, engine, max_rows=0, max_columns=0, max_column_width=50):\n",
    "    import pandas as pd\n",
    "\n",
    "    if (max_rows>0):\n",
    "        pd.options.display.max_rows = max_rows\n",
    "    else:\n",
    "        pd.options.display.max_rows = 60\n",
    "   \n",
    "    if (max_columns>0):\n",
    "        pd.options.display.max_columns = max_columns\n",
    "    else:\n",
    "        pd.options.display.max_columns = 20\n",
    "     \n",
    "    if (max_column_width>0):\n",
    "        pd.set_option('display.max_colwidth', max_column_width)\n",
    "    else:\n",
    "         pd.set_option('display.max_colwidth', 50)\n",
    "    \n",
    "    with engine.connect() as conn: #, conn.begin():\n",
    "        df = pd.read_sql_query(sql_string, conn)\n",
    "        \n",
    "    #print(pd.get_option('display.max_colwidth'))\n",
    "             #pandas.set_option('display.max_colwidth', 40)\n",
    "   \n",
    "    #print (pd.options.display.max_column_width)\n",
    "    #print(pd.options.display.max_columns)\n",
    "    #print (df.shape)\n",
    "    #df.info()\n",
    "    \n",
    "    return df"
   ]
  },
  {
   "cell_type": "code",
   "execution_count": 1,
   "id": "a16cccd1-0c94-494a-96f8-8ff62f4c3342",
   "metadata": {},
   "outputs": [],
   "source": [
    "def display_data(sql_string,max_rows=0, max_columns=0, max_column_width=50):\n",
    "    import pandas as pd\n",
    "\n",
    "    if (max_rows>0):\n",
    "        pd.options.display.max_rows = max_rows\n",
    "    else:\n",
    "        pd.options.display.max_rows = 60\n",
    "   \n",
    "    if (max_columns>0):\n",
    "        pd.options.display.max_columns = max_columns\n",
    "    else:\n",
    "        pd.options.display.max_columns = 20\n",
    "     \n",
    "    if (max_column_width>0):\n",
    "        pd.set_option('display.max_colwidth', max_column_width)\n",
    "    else:\n",
    "         pd.set_option('display.max_colwidth', 50)\n",
    "    \n",
    "    with engine.connect() as conn: #, conn.begin():\n",
    "        df = pd.read_sql_query(sql_string, conn)\n",
    "        \n",
    "    #print(pd.get_option('display.max_colwidth'))\n",
    "             #pandas.set_option('display.max_colwidth', 40)\n",
    "   \n",
    "    #print (pd.options.display.max_column_width)\n",
    "    #print(pd.options.display.max_columns)\n",
    "    #print (df.shape)\n",
    "    #df.info()\n",
    "    \n",
    "    return df\n",
    "\n",
    "    #left_aligned_df = df.style.set_properties(**{'text-align': 'left'}).set_table_styles([ dict(selector='th', props=[('text-align', 'left')] ) ])\n",
    "    #return left_aligned_df"
   ]
  }
 ],
 "metadata": {
  "kernelspec": {
   "display_name": "Python 3 (ipykernel)",
   "language": "python",
   "name": "python3"
  },
  "language_info": {
   "codemirror_mode": {
    "name": "ipython",
    "version": 3
   },
   "file_extension": ".py",
   "mimetype": "text/x-python",
   "name": "python",
   "nbconvert_exporter": "python",
   "pygments_lexer": "ipython3",
   "version": "3.11.1"
  }
 },
 "nbformat": 4,
 "nbformat_minor": 5
}
